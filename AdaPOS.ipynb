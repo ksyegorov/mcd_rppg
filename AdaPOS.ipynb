{
 "cells": [
  {
   "cell_type": "code",
   "execution_count": 1,
   "id": "6390d54e-707c-4c36-bd9d-cde68fff0767",
   "metadata": {},
   "outputs": [],
   "source": [
    "import pandas as pd\n",
    "import matplotlib.pyplot as plt\n",
    "import numpy as np\n",
    "import torch\n",
    "import torchaudio\n",
    "from scipy import signal\n",
    "import scipy\n",
    "import math\n",
    "import multiprocessing\n",
    "from tqdm.auto import tqdm\n",
    "\n",
    "import rppglib"
   ]
  },
  {
   "cell_type": "code",
   "execution_count": 53,
   "id": "7deed2c3-46c0-46b9-aac8-5976a4a5e358",
   "metadata": {},
   "outputs": [],
   "source": [
    "def _next_power_of_2(x):\n",
    "    \"\"\"Calculate the nearest power of 2.\"\"\"\n",
    "    return 1 if x == 0 else 2 ** (x - 1).bit_length()\n",
    "\n",
    "\n",
    "def calculate_fft_hr_torch(ppg_signal, fs=30, low_pass=0.5, high_pass=3.5):\n",
    "    \"\"\"\n",
    "    Taken from https://github.com/ubicomplab/rPPG-Toolbox/blob/main/evaluation/post_process.py\n",
    "    Calculate heart rate based on PPG using Fast Fourier transform (FFT).\n",
    "    \"\"\"\n",
    "    #ppg_signal = torch.from_numpy(ppg_signal.astype('float32'))[None, :]\n",
    "    ppg_signal = ppg_signal[None, :]\n",
    "    N = _next_power_of_2(ppg_signal.shape[1])\n",
    "\n",
    "    pxx_ppg = torch.fft.rfft(ppg_signal, n=N, dim=1).abs()[0]\n",
    "    #pxx_ppg = pxx_ppg**2\n",
    "    \n",
    "    f_ppg = torch.linspace(0.0, 15.0, pxx_ppg.shape[0])\n",
    "    \n",
    "    fmask_ppg = torch.argwhere((f_ppg >= low_pass) & (f_ppg <= high_pass))\n",
    "    mask_ppg = torch.take(f_ppg, fmask_ppg)\n",
    "    mask_pxx = torch.take(pxx_ppg, fmask_ppg)\n",
    "    fft_hr = torch.take(mask_ppg, torch.argmax(mask_pxx, 0))[0] * 60    \n",
    "    return fft_hr.item()\n",
    "\n",
    "def filter_signal(signal, rate, freq, mode='high', order=4):\n",
    "    hb_n_freq = freq / (rate / 2)\n",
    "    b, a = scipy.signal.butter(order, hb_n_freq, mode)\n",
    "    filtered = scipy.signal.filtfilt(b, a, signal)\n",
    "    filtered = filtered.astype(signal.dtype)\n",
    "    return filtered\n",
    "\n",
    "def bandpass_filter(signal, rate, low_freq, high_freq, order=4):\n",
    "    signal = filter_signal(signal, rate, high_freq, mode='low',  order=order)\n",
    "    signal = filter_signal(signal, rate, low_freq,  mode='high', order=order)\n",
    "    return signal\n",
    "\n",
    "\n",
    "def preprocess(files):\n",
    "    rgbs = list()\n",
    "    ppgs = list()\n",
    "    for file in tqdm(files):\n",
    "        npz = np.load(file)\n",
    "        video = npz['video']\n",
    "        ppg = npz['ppg'] \n",
    "        rgb = video.mean(axis=(1, 2))\n",
    "        \n",
    "        ppg = bandpass_filter(ppg, 30, 0.5, 10)\n",
    "        ppg -= ppg.mean()\n",
    "        ppg /= ppg.std() + 1e-9\n",
    "        rgbs.append(rgb)\n",
    "        ppgs.append(ppg)\n",
    "    rgbs = np.stack(rgbs).astype('float32')\n",
    "    ppgs = np.stack(ppgs).astype('float32')\n",
    "    return rgbs, ppgs\n",
    "\n",
    "import cv2\n",
    "def resize_video(video, height, width):\n",
    "    resized_video = np.zeros((video.shape[0], height, width, 3), dtype=video.dtype)\n",
    "    for i in range(video.shape[0]):\n",
    "        resized_video[i] = cv2.resize(video[i], (width, height), interpolation=cv2.INTER_AREA)\n",
    "    return resized_video"
   ]
  },
  {
   "cell_type": "code",
   "execution_count": 40,
   "id": "8c8a6368-6fd8-4593-9dbe-50f978b6baec",
   "metadata": {},
   "outputs": [
    {
     "name": "stdout",
     "output_type": "stream",
     "text": [
      "(240, 23)\n"
     ]
    }
   ],
   "source": [
    "df = pd.read_csv('mcd_rppg.csv', index_col=0)\n",
    "\n",
    "test_fold = 0\n",
    "df = df[df['fold'] == test_fold]\n",
    "#df = df[df['ppg_std'] != 0.0]\n",
    "files = df['file'].to_list()\n",
    "print(df.shape)"
   ]
  },
  {
   "cell_type": "code",
   "execution_count": 41,
   "id": "2c970d33-a73c-4abc-91c2-273ab9104b5c",
   "metadata": {},
   "outputs": [
    {
     "data": {
      "application/vnd.jupyter.widget-view+json": {
       "model_id": "1e155ef5aabe4c48973db382266488ca",
       "version_major": 2,
       "version_minor": 0
      },
      "text/plain": [
       "  0%|          | 0/240 [00:00<?, ?it/s]"
      ]
     },
     "metadata": {},
     "output_type": "display_data"
    }
   ],
   "source": [
    "videos = [torch.from_numpy(np.load(file)['video']).float() for file in tqdm(files)]"
   ]
  },
  {
   "cell_type": "code",
   "execution_count": 43,
   "id": "28b7fef0-2b33-459a-9207-3d00f32b0ca2",
   "metadata": {},
   "outputs": [
    {
     "data": {
      "application/vnd.jupyter.widget-view+json": {
       "model_id": "c1d28dedb88c4c13a5e45ce638517722",
       "version_major": 2,
       "version_minor": 0
      },
      "text/plain": [
       "  0%|          | 0/240 [00:00<?, ?it/s]"
      ]
     },
     "metadata": {},
     "output_type": "display_data"
    }
   ],
   "source": [
    "ppgs_pt = list()\n",
    "for file in tqdm(files):\n",
    "    ppg = np.load(file)['ppg']\n",
    "    ppg = bandpass_filter(ppg, 30, 0.5, 10)\n",
    "    ppg -= ppg.mean()\n",
    "    ppg /= ppg.std() + 1e-9\n",
    "    ppg = torch.from_numpy(ppg)\n",
    "    ppgs_pt.append(ppg)\n",
    "ppgs_pt = torch.stack(ppgs_pt)"
   ]
  },
  {
   "cell_type": "code",
   "execution_count": 133,
   "id": "a4165d0c-1249-4b37-9926-ab7531505dcd",
   "metadata": {},
   "outputs": [
    {
     "data": {
      "application/vnd.jupyter.widget-view+json": {
       "model_id": "8cbd1500681e4c44ae24ee31b6f836aa",
       "version_major": 2,
       "version_minor": 0
      },
      "text/plain": [
       "  0%|          | 0/240 [00:00<?, ?it/s]"
      ]
     },
     "metadata": {},
     "output_type": "display_data"
    },
    {
     "name": "stdout",
     "output_type": "stream",
     "text": [
      "3.80859375\n",
      "\n"
     ]
    }
   ],
   "source": [
    "import numba\n",
    "\n",
    "@numba.njit(parallel=False) # on some processors this is faster #@numba.njit(parallel=True)\n",
    "def extract_mean_frame(frame):\n",
    "    H, W, Ch = frame.shape\n",
    "    means = np.empty(Ch, dtype=np.float32)\n",
    "    for ch in range(Ch):\n",
    "        ch_sum = 0\n",
    "        ch_count = 0\n",
    "        for i in numba.prange(H):\n",
    "            for j in numba.prange(W):\n",
    "                val = frame[i, j, ch]\n",
    "                #if val != 0:\n",
    "                ch_sum += val\n",
    "                ch_count += 1\n",
    "        means[ch] = ch_sum / (ch_count + 1e-6)        \n",
    "    return means\n",
    "\n",
    "@numba.njit(parallel=True) # on some processors this is faster #@numba.njit(parallel=True)\n",
    "def extract_mean_video(video):\n",
    "    rgbs = np.empty((video.shape[0], 3), dtype=np.float32)\n",
    "    for i in numba.prange(video.shape[0]):\n",
    "        frame = video[i]\n",
    "        rgb = extract_mean_frame(frame)\n",
    "        rgbs[i, :] = rgb\n",
    "    return rgbs\n",
    "\n",
    "\n",
    "class POS(torch.nn.Module):\n",
    "    def __init__(self, fs=30, window_sec=1.6, low_freq=0.75, high_freq=3.0):\n",
    "        super().__init__()\n",
    "        self.matrix = torch.nn.Parameter(data=torch.Tensor([[0, 1, -1], [-2, 1, 1]]).float(), requires_grad=False)\n",
    "        self.window = math.ceil(window_sec * fs)\n",
    "        self.fs = fs\n",
    "        \n",
    "        b, a = signal.butter(1, [low_freq / fs * 2, high_freq / fs * 2], btype='bandpass')\n",
    "        self.a = torch.nn.Parameter(torch.Tensor(a), requires_grad=False)\n",
    "        self.b = torch.nn.Parameter(torch.Tensor(b), requires_grad=False)\n",
    "\n",
    "    def filter(self, ppg):\n",
    "        ppg = torchaudio.functional.filtfilt(ppg, self.a, self.b)\n",
    "        return ppg\n",
    "\n",
    "    def window_function(self, rgb):\n",
    "        Cn = self.normalize_rgb(rgb)\n",
    "        S = torch.matmul(self.matrix, Cn)\n",
    "        S_0 = S[:, :, 0, :]\n",
    "        S_1 = S[:, :, 1, :]\n",
    "    \n",
    "        std_div = S_0.std(dim=2) / (S_1.std(dim=2) + 1e-4)\n",
    "        std_div = std_div[:, :, None]\n",
    "        h = S_0 + std_div * S_1\n",
    "        return h\n",
    "\n",
    "    def normalize_rgb(self, rgb):\n",
    "        means = rgb.mean(dim=3)\n",
    "        rgb = rgb / (means[:, :, :, None] + 1e-6)\n",
    "        return rgb\n",
    "\n",
    "    def forward(self, videos):\n",
    "        rgb = self.process_videos(videos)\n",
    "        batch_size, time, channel = rgb.shape\n",
    "        unfolded = rgb.unfold(1, self.window, 1)\n",
    "        hs = self.window_function(unfolded)\n",
    "        total_length, batch_size = rgb.shape[1], rgb.shape[0]\n",
    "        ppg = torch.zeros((batch_size, total_length), dtype=torch.float32).to(rgb.device)\n",
    "        for i, end in enumerate(range(self.window, total_length)):\n",
    "            start = end - self.window\n",
    "            ppg[:, start:end] += hs[:, i] \n",
    "        ppg = self.filter(ppg)\n",
    "        return ppg\n",
    "\n",
    "    def process_videos(self, videos):\n",
    "        result = list()\n",
    "        for video in tqdm(videos):\n",
    "            rgbs = extract_mean_video(video.numpy())\n",
    "            rgbs = torch.from_numpy(rgbs)                    \n",
    "            result.append(rgbs)\n",
    "        result = torch.stack(result)\n",
    "        return result\n",
    "\n",
    "    \n",
    "\n",
    "\n",
    "net = POS()\n",
    "pred_ppg = net(videos)\n",
    "aes = list()\n",
    "for true, pred in zip(ppgs_pt, pred_ppg):\n",
    "    true_hr = calculate_fft_hr_torch(true)\n",
    "    pred_hr = calculate_fft_hr_torch(pred)\n",
    "    aes.append(np.abs(true_hr - pred_hr))\n",
    "print(np.mean(aes))\n",
    "print()"
   ]
  },
  {
   "cell_type": "code",
   "execution_count": 114,
   "id": "f29de3a7-13fb-48c4-b793-9904c643e956",
   "metadata": {},
   "outputs": [
    {
     "data": {
      "text/plain": [
       "torch.Size([600, 101, 99, 3])"
      ]
     },
     "execution_count": 114,
     "metadata": {},
     "output_type": "execute_result"
    }
   ],
   "source": [
    "videos[0].shape"
   ]
  },
  {
   "cell_type": "code",
   "execution_count": 117,
   "id": "39c53cbe-c651-4394-a872-8694ab9d2047",
   "metadata": {},
   "outputs": [
    {
     "data": {
      "image/png": "[encoded data removed]",
      "text/plain": [
       "<Figure size 640x480 with 1 Axes>"
      ]
     },
     "metadata": {},
     "output_type": "display_data"
    }
   ],
   "source": [
    "plt.hist(videos[0][:, :, :, 0].numpy().flatten(), bins=100)\n",
    "plt.show()"
   ]
  },
  {
   "cell_type": "code",
   "execution_count": null,
   "id": "afd482e3-ddf6-4d27-829f-05c06a1d7795",
   "metadata": {},
   "outputs": [],
   "source": []
  },
  {
   "cell_type": "code",
   "execution_count": null,
   "id": "48387cd4-ad74-48f8-aa33-accd85a98678",
   "metadata": {},
   "outputs": [],
   "source": []
  },
  {
   "cell_type": "code",
   "execution_count": null,
   "id": "527e0dd0-80e7-49f5-aa59-6438f6a0b798",
   "metadata": {},
   "outputs": [],
   "source": []
  },
  {
   "cell_type": "code",
   "execution_count": null,
   "id": "2edbbfa2-a9fe-4cdb-ae37-4c8190887aa3",
   "metadata": {},
   "outputs": [],
   "source": []
  },
  {
   "cell_type": "code",
   "execution_count": null,
   "id": "89e3ba6d-6b1e-437a-8dc3-434961d26acf",
   "metadata": {},
   "outputs": [],
   "source": []
  },
  {
   "cell_type": "code",
   "execution_count": null,
   "id": "6f457b54-6361-4e58-9b40-670dc19ce637",
   "metadata": {},
   "outputs": [],
   "source": []
  },
  {
   "cell_type": "code",
   "execution_count": null,
   "id": "5ef820f1-c1e3-472f-a8fc-da678c06a941",
   "metadata": {},
   "outputs": [],
   "source": []
  },
  {
   "cell_type": "code",
   "execution_count": null,
   "id": "3761efa2-cc32-4d3d-a4a6-615038066a2c",
   "metadata": {},
   "outputs": [],
   "source": []
  }
 ],
 "metadata": {
  "kernelspec": {
   "display_name": "Python 3 (ipykernel)",
   "language": "python",
   "name": "python3"
  },
  "language_info": {
   "codemirror_mode": {
    "name": "ipython",
    "version": 3
   },
   "file_extension": ".py",
   "mimetype": "text/x-python",
   "name": "python",
   "nbconvert_exporter": "python",
   "pygments_lexer": "ipython3",
   "version": "3.10.11"
  }
 },
 "nbformat": 4,
 "nbformat_minor": 5
}
