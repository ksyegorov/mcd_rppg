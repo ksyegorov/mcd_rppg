{
 "cells": [
  {
   "cell_type": "code",
   "execution_count": 1,
   "id": "b4fad131-f58a-449b-be00-9451e0073474",
   "metadata": {},
   "outputs": [],
   "source": [
    "import json\n",
    "import rppglib.train"
   ]
  },
  {
   "cell_type": "code",
   "execution_count": 2,
   "id": "49e0ef77-a409-416b-a8e8-4a7873be0aa3",
   "metadata": {},
   "outputs": [],
   "source": [
    "class config:\n",
    "    fps = 30\n",
    "    ppg_low_freq = 0.5\n",
    "    ppg_high_freq = 10\n",
    "    batch_size = 32\n",
    "    num_workers = 12\n",
    "    train_dataset = 'mcd_rppg'\n",
    "    test_datasets = ['mcd_rppg', 'MMPD', 'SCAMPS', 'UBFC_rPPG']\n",
    "    num_folds = 5\n",
    "    test_fold = 0\n",
    "    valid_fold = 1\n",
    "    model = 'OMIT'\n",
    "    results_folder = 'results'"
   ]
  },
  {
   "cell_type": "code",
   "execution_count": 3,
   "id": "dc05070d-57d4-40d6-a553-8a01dd39a1da",
   "metadata": {
    "scrolled": true
   },
   "outputs": [
    {
     "name": "stdout",
     "output_type": "stream",
     "text": [
      "Model OMIT loaded\n",
      "\n",
      "Testing on mcd_rppg\n",
      "Test files: 240\n",
      "Testing: 100%|████████████████████████████████████████████████████████████████████████████████████████████████████████████████████████| 8/8 [00:02<00:00,  3.04it/s]\n",
      "Testing true PPGs: (240, 600)\n",
      "Testing pred PPGs: (240, 600)\n",
      "Mean true HRs: 83.291015625\n",
      "Mean pred HRs: 82.27294921875\n",
      "PPG MAE: 0.8006817698478699\n",
      "HR MAE: 4.78271484375\n",
      "\n",
      "Testing on MMPD\n",
      "Test files: 114\n",
      "Testing: 100%|████████████████████████████████████████████████████████████████████████████████████████████████████████████████████████| 4/4 [00:04<00:00,  1.02s/it]\n",
      "Testing true PPGs: (114, 600)\n",
      "Testing pred PPGs: (114, 600)\n",
      "Mean true HRs: 83.28022203947368\n",
      "Mean pred HRs: 74.18277138157895\n",
      "PPG MAE: 0.7720935344696045\n",
      "HR MAE: 15.326891447368421\n",
      "\n",
      "Testing on SCAMPS\n",
      "Test files: 554\n",
      "Testing: 100%|██████████████████████████████████████████████████████████████████████████████████████████████████████████████████████| 18/18 [00:06<00:00,  2.79it/s]\n",
      "Testing true PPGs: (554, 600)\n",
      "Testing pred PPGs: (554, 600)\n",
      "Mean true HRs: 97.09851647111914\n",
      "Mean pred HRs: 93.61144799187726\n",
      "PPG MAE: 0.856599748134613\n",
      "HR MAE: 16.267697991877256\n",
      "\n",
      "Testing on UBFC_rPPG\n",
      "Test files: 9\n",
      "Testing: 100%|████████████████████████████████████████████████████████████████████████████████████████████████████████████████████████| 1/1 [00:01<00:00,  1.06s/it]\n",
      "Testing true PPGs: (9, 600)\n",
      "Testing pred PPGs: (9, 600)\n",
      "Mean true HRs: 97.65625\n",
      "Mean pred HRs: 96.09375\n",
      "PPG MAE: 0.8393958210945129\n",
      "HR MAE: 1.953125\n"
     ]
    }
   ],
   "source": [
    "for valid_fold in range(1, 2):\n",
    "    config.valid_fold = valid_fold\n",
    "    config = rppglib.train.train_fold(config)\n",
    "    cfg = {k:v for k, v in config.__dict__.items() if not k.startswith('__')}\n",
    "    name = f'{config.results_folder}/{config.model}__{config.train_dataset}__{config.valid_fold}'\n",
    "    with open(f'{name}.cfg', 'w') as fp:\n",
    "        json.dump(cfg, fp)"
   ]
  },
  {
   "cell_type": "code",
   "execution_count": 4,
   "id": "90930a03-60af-4c5a-aed8-683d990ac844",
   "metadata": {},
   "outputs": [
    {
     "name": "stdout",
     "output_type": "stream",
     "text": [
      "\n",
      "Test results on \"mcd_rppg\" dataset:\n",
      "HR  MAE: 4.78+/-0.000\n",
      "PPG MAE: 0.80+/-0.000\n",
      "\n",
      "Test results on \"MMPD\" dataset:\n",
      "HR  MAE: 15.33+/-0.000\n",
      "PPG MAE: 0.77+/-0.000\n",
      "\n",
      "Test results on \"SCAMPS\" dataset:\n",
      "HR  MAE: 16.27+/-0.000\n",
      "PPG MAE: 0.86+/-0.000\n",
      "\n",
      "Test results on \"UBFC_rPPG\" dataset:\n",
      "HR  MAE: 1.95+/-0.000\n",
      "PPG MAE: 0.84+/-0.000\n"
     ]
    }
   ],
   "source": [
    "from glob import glob\n",
    "import json\n",
    "import numpy as np\n",
    "\n",
    "def open_cfg(file):\n",
    "    with open(file, 'rt') as f:\n",
    "        data = json.loads(f.read())\n",
    "    return data\n",
    "\n",
    "cfgs = glob(f'results/{config.model}__{config.train_dataset}__*.cfg')\n",
    "cfgs = [open_cfg(file) for file in cfgs]\n",
    "\n",
    "for ds in config.test_datasets:\n",
    "    vals_ppg = [cfg['test_results'][f'test__{ds}__ppg'] for cfg in cfgs]\n",
    "    vals_hr = [cfg['test_results'][f'test__{ds}__hr'] for cfg in cfgs]\n",
    "\n",
    "    print()\n",
    "    print(f'Test results on \"{ds}\" dataset:')\n",
    "    print(f'HR  MAE: {np.mean(vals_hr):.2f}+/-{np.std(vals_hr):.3f}')\n",
    "    print(f'PPG MAE: {np.mean(vals_ppg):.2f}+/-{np.std(vals_ppg):.3f}')"
   ]
  },
  {
   "cell_type": "code",
   "execution_count": null,
   "id": "016f050f-2f24-4658-9a38-2f96bdbc5c6e",
   "metadata": {},
   "outputs": [],
   "source": []
  },
  {
   "cell_type": "code",
   "execution_count": null,
   "id": "f16843a8-09ef-4e65-bd1e-58e1c1bfb242",
   "metadata": {},
   "outputs": [],
   "source": []
  }
 ],
 "metadata": {
  "kernelspec": {
   "display_name": "Python 3 (ipykernel)",
   "language": "python",
   "name": "python3"
  },
  "language_info": {
   "codemirror_mode": {
    "name": "ipython",
    "version": 3
   },
   "file_extension": ".py",
   "mimetype": "text/x-python",
   "name": "python",
   "nbconvert_exporter": "python",
   "pygments_lexer": "ipython3",
   "version": "3.10.11"
  }
 },
 "nbformat": 4,
 "nbformat_minor": 5
}
